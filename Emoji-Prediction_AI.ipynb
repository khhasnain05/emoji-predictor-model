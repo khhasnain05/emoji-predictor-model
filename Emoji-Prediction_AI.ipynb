{
 "cells": [
  {
   "cell_type": "code",
   "execution_count": null,
   "id": "ffd9405b",
   "metadata": {},
   "outputs": [
    {
     "name": "stdout",
     "output_type": "stream",
     "text": [
      "['❤', '😍', '😂', '💕', '🔥', '😊', '😎', '✨', '💙', '😘', '📷', '🇺🇸', '☀', '💜', '😉', '💯', '😁', '🎄', '📸', '😜']\n"
     ]
    }
   ],
   "source": [
    "# Loading Dataset\n",
    "from datasets import load_dataset\n",
    "\n",
    "ds = load_dataset(\"cardiffnlp/tweet_eval\", \"emoji\")\n",
    "print(ds[\"train\"].features[\"label\"].names)"
   ]
  },
  {
   "cell_type": "code",
   "execution_count": null,
   "id": "15c33b82",
   "metadata": {},
   "outputs": [],
   "source": [
    "# Loading Facebook AI RoBERTa Base Model and Tokenizer\n",
    "from transformers import RobertaTokenizer, RobertaForSequenceClassification\n",
    "\n",
    "model_name = \"roberta-base\"\n",
    "\n",
    "tokenizer = RobertaTokenizer.from_pretrained(model_name)\n",
    "model = RobertaForSequenceClassification.from_pretrained(model_name, num_labels=20)  # 20 emoji classes"
   ]
  },
  {
   "cell_type": "code",
   "execution_count": 3,
   "id": "65ce34d7",
   "metadata": {},
   "outputs": [],
   "source": [
    "def preprocess(example):\n",
    "    return tokenizer(example[\"text\"], padding=\"max_length\", truncation=True, max_length=128)\n",
    "\n",
    "# Apply tokenization\n",
    "encoded_dataset = ds.map(preprocess, batched=True)\n",
    "encoded_dataset = encoded_dataset.rename_column(\"label\", \"labels\")\n",
    "encoded_dataset.set_format(\"torch\", columns=[\"input_ids\", \"attention_mask\", \"labels\"])\n"
   ]
  },
  {
   "cell_type": "code",
   "execution_count": 4,
   "id": "9aa550c9",
   "metadata": {},
   "outputs": [],
   "source": [
    "from sklearn.metrics import accuracy_score, f1_score\n",
    "import numpy as np\n",
    "\n",
    "def compute_metrics(eval_pred):\n",
    "    logits, labels = eval_pred\n",
    "    predictions = np.argmax(logits, axis=1)\n",
    "    return {\n",
    "        \"accuracy\": accuracy_score(labels, predictions),\n",
    "        \"f1\": f1_score(labels, predictions, average=\"weighted\")\n",
    "    }\n"
   ]
  },
  {
   "cell_type": "code",
   "execution_count": 35,
   "id": "793deb12",
   "metadata": {},
   "outputs": [],
   "source": [
    "# Setting Training Configurations\n",
    "from transformers import TrainingArguments\n",
    "\n",
    "training_args = TrainingArguments(\n",
    "    output_dir=r\"D:/emoji-predictor\",\n",
    "    eval_strategy=\"epoch\",\n",
    "    save_strategy=\"epoch\",\n",
    "    learning_rate=2e-5,\n",
    "    per_device_train_batch_size=16,\n",
    "    per_device_eval_batch_size=16,\n",
    "    num_train_epochs=5,\n",
    "    weight_decay=0.01,\n",
    "    logging_steps=10,\n",
    ")"
   ]
  },
  {
   "cell_type": "code",
   "execution_count": null,
   "id": "41b4e466",
   "metadata": {},
   "outputs": [],
   "source": [
    "# Training the model\n",
    "from transformers import Trainer\n",
    "\n",
    "trainer = Trainer(\n",
    "    model=model,\n",
    "    args=training_args,\n",
    "    train_dataset=encoded_dataset[\"train\"],\n",
    "    eval_dataset=encoded_dataset[\"validation\"],\n",
    "    compute_metrics=compute_metrics,\n",
    ")\n",
    "\n",
    "trainer.train(resume_from_checkpoint = True)\n"
   ]
  },
  {
   "cell_type": "code",
   "execution_count": null,
   "id": "7c6f57eb",
   "metadata": {},
   "outputs": [],
   "source": [
    "# Saving the model for future use\n",
    "\n",
    "model.save_pretrained(r\"D:/complete-emoji-model\")\n",
    "tokenizer.save_pretrained(r\"D:/complete-emoji-model\")"
   ]
  },
  {
   "cell_type": "code",
   "execution_count": 3,
   "id": "9ef87cf0",
   "metadata": {},
   "outputs": [
    {
     "name": "stderr",
     "output_type": "stream",
     "text": [
      "c:\\Users\\PMLS\\AppData\\Local\\Programs\\Python\\Python313\\Lib\\site-packages\\tqdm\\auto.py:21: TqdmWarning: IProgress not found. Please update jupyter and ipywidgets. See https://ipywidgets.readthedocs.io/en/stable/user_install.html\n",
      "  from .autonotebook import tqdm as notebook_tqdm\n"
     ]
    }
   ],
   "source": [
    "from transformers import AutoModelForSequenceClassification, AutoTokenizer, pipeline\n",
    "\n",
    "# Load model and tokenizer from saved folder\n",
    "model = AutoModelForSequenceClassification.from_pretrained(r\"D:/complete-emoji-model\")\n",
    "tokenizer = AutoTokenizer.from_pretrained(r\"D:/complete-emoji-model\")"
   ]
  },
  {
   "cell_type": "code",
   "execution_count": 4,
   "id": "560230e0",
   "metadata": {},
   "outputs": [],
   "source": [
    "# Emoji ID to Emoji character\n",
    "id2emoji = {\n",
    "    0: '❤',   1: '😍',  2: '😂',  3: '💕',  4: '🔥',\n",
    "    5: '😊',  6: '😎',  7: '✨',  8: '💙',  9: '😘',\n",
    "    10: '📷', 11: '🇺🇸', 12: '☀', 13: '💜', 14: '😉',\n",
    "    15: '💯', 16: '😁', 17: '🎄', 18: '📸', 19: '😜'\n",
    "}"
   ]
  },
  {
   "cell_type": "code",
   "execution_count": 7,
   "id": "bafd4474",
   "metadata": {},
   "outputs": [
    {
     "name": "stderr",
     "output_type": "stream",
     "text": [
      "Device set to use cpu\n"
     ]
    }
   ],
   "source": [
    "emoji_classifier = pipeline(\"text-classification\", model=model, tokenizer=tokenizer)\n",
    "\n",
    "def predict_emoji(text):\n",
    "    result = emoji_classifier(text)\n",
    "    label = int(result[0][\"label\"].replace(\"LABEL_\", \"\"))\n",
    "    return f\"{id2emoji[label]}\""
   ]
  },
  {
   "cell_type": "code",
   "execution_count": null,
   "id": "c14e8c9d",
   "metadata": {},
   "outputs": [
    {
     "name": "stdout",
     "output_type": "stream",
     "text": [
      "* Running on local URL:  http://127.0.0.1:7860\n",
      "* To create a public link, set `share=True` in `launch()`.\n"
     ]
    },
    {
     "data": {
      "text/html": [
       "<div><iframe src=\"http://127.0.0.1:7860/\" width=\"100%\" height=\"500\" allow=\"autoplay; camera; microphone; clipboard-read; clipboard-write;\" frameborder=\"0\" allowfullscreen></iframe></div>"
      ],
      "text/plain": [
       "<IPython.core.display.HTML object>"
      ]
     },
     "metadata": {},
     "output_type": "display_data"
    },
    {
     "data": {
      "text/plain": []
     },
     "execution_count": 6,
     "metadata": {},
     "output_type": "execute_result"
    }
   ],
   "source": [
    "# Create User Interface\n",
    "import gradio as gr\n",
    "\n",
    "iface = gr.Interface(\n",
    "    fn=predict_emoji,\n",
    "    inputs=gr.Textbox(lines=2, placeholder=\"Type a message here...\"),\n",
    "    outputs=\"Text\",\n",
    "    title=\"Emoji Predictor 🤖✨\",\n",
    "    description=\"Enter a sentence and get a predicted emoji!\"\n",
    ")\n",
    "\n",
    "iface.launch()"
   ]
  }
 ],
 "metadata": {
  "kernelspec": {
   "display_name": "Python 3",
   "language": "python",
   "name": "python3"
  },
  "language_info": {
   "codemirror_mode": {
    "name": "ipython",
    "version": 3
   },
   "file_extension": ".py",
   "mimetype": "text/x-python",
   "name": "python",
   "nbconvert_exporter": "python",
   "pygments_lexer": "ipython3",
   "version": "3.13.5"
  }
 },
 "nbformat": 4,
 "nbformat_minor": 5
}
